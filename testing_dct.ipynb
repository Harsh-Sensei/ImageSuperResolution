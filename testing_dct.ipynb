{
 "cells": [
  {
   "cell_type": "code",
   "execution_count": 4,
   "id": "reliable-norway",
   "metadata": {},
   "outputs": [
    {
     "name": "stdout",
     "output_type": "stream",
     "text": [
      "INFO:tensorflow:Enabling eager execution\n",
      "INFO:tensorflow:Enabling v2 tensorshape\n",
      "INFO:tensorflow:Enabling resource variables\n",
      "INFO:tensorflow:Enabling tensor equality\n",
      "INFO:tensorflow:Enabling control flow v2\n"
     ]
    }
   ],
   "source": [
    "import matplotlib.pyplot as plt\n",
    "import keras\n",
    "import random\n",
    "import pandas as pd\n",
    "import numpy as np\n",
    "from functools import partial\n",
    "from math import *\n",
    "import cv2 as cv\n",
    "from PIL import Image, ImageOps\n",
    "from IPython.display import display \n",
    "import tensorflow as tf\n",
    "from tensorflow.keras import datasets, layers, models\n",
    "import tensorflow_datasets as tfds\n",
    "from scipy import stats\n",
    "import sklearn \n",
    "import sklearn.feature_extraction\n",
    "\n",
    "from keras import callbacks"
   ]
  },
  {
   "cell_type": "code",
   "execution_count": 37,
   "id": "baking-exhaust",
   "metadata": {},
   "outputs": [],
   "source": [
    "def show_bgrimg(image):#for diplaying bgr images\n",
    "    plt.figure(figsize=(12, 10), dpi=80)\n",
    "    plt.imshow(cv.cvtColor(image, cv.COLOR_BGR2RGB))\n",
    "    plt.show()\n",
    "    \n",
    "def show_rgbimg(image):#for displaying rgb images\n",
    "    plt.figure(figsize=(12, 10), dpi=80)\n",
    "    plt.imshow(image)\n",
    "    plt.show()\n",
    "    \n",
    "def show_bnw(image):#for displaying grayscale images \n",
    "    plt.figure(figsize=(12, 10), dpi=80)\n",
    "    plt.imshow(image,cmap=\"gray\",vmin=0,vmax=255)\n",
    "    plt.show()"
   ]
  },
  {
   "cell_type": "code",
   "execution_count": 25,
   "id": "scheduled-habitat",
   "metadata": {},
   "outputs": [],
   "source": [
    "#function to finc DCT(discrete cosine transform) of an image\n",
    "def convert_grayscale_to_dct(image):\n",
    "    imagefloat=image.astype('float32')\n",
    "    imagefloat=imagefloat[:,:,0]\n",
    "    dct_img=np.resize(cv.dct(imagefloat),(image.shape[0],image.shape[1],1))\n",
    "    \n",
    "    return dct_img\n",
    "\n",
    "#function to convert Img from DCT\n",
    "def convert_dct_to_grayscale(dct_img):\n",
    "    dct_img=dct_img[:,:,0].astype('float32')\n",
    "    image=cv.idct(dct_img)\n",
    "    return image\n",
    "    "
   ]
  },
  {
   "cell_type": "code",
   "execution_count": 26,
   "id": "following-compact",
   "metadata": {},
   "outputs": [],
   "source": [
    "#function to convert to ycbcr\n",
    "def conv_ycbcr(image):\n",
    "    height=image.shape[0]\n",
    "    width=image.shape[1]\n",
    "    ycbcr_img=cv.cvtColor(image, cv.COLOR_BGR2YCR_CB)\n",
    "    return np.resize((ycbcr_img[:,:,0]).flatten(),(height,width,1))\n"
   ]
  },
  {
   "cell_type": "code",
   "execution_count": 27,
   "id": "signal-destiny",
   "metadata": {},
   "outputs": [],
   "source": [
    "def patch_extraction(image,subw,subh):\n",
    "    result=[]\n",
    "    n_x=image.shape[1]//subw\n",
    "    n_y=image.shape[0]//subh\n",
    "    for i in range(n_x):\n",
    "        for j in range(n_y):\n",
    "            result.append(image[j*subh:(j+1)*subh:1,i*subw:(i+1)*subw:1])\n",
    "    return result\n"
   ]
  },
  {
   "cell_type": "code",
   "execution_count": 28,
   "id": "protecting-retro",
   "metadata": {},
   "outputs": [],
   "source": [
    "def bicubic_resize(layer_output,image):\n",
    "    resized_img=cv.resize(image, layer_output, interpolation=cv.INTER_CUBIC)\n",
    "    resized_img=np.resize(resized_img.flatten(),tuple(list(layer_output)+[1]))\n",
    "    return resized_img"
   ]
  },
  {
   "cell_type": "code",
   "execution_count": 29,
   "id": "honey-string",
   "metadata": {},
   "outputs": [],
   "source": [
    "#function for bilateral filter and bicubic interpolation\n",
    "def preprocessing(image,scale=2):\n",
    "    image=cv.cvtColor(image, cv.COLOR_BGR2YCR_CB)\n",
    "    image=image[:,:,0]\n",
    "    width=image.shape[1]\n",
    "    height=image.shape[0]\n",
    "    resized_img=cv.resize(image,(width*scale,height*scale), interpolation=cv.INTER_CUBIC)\n",
    "    resized_img=np.resize(resized_img.flatten(),(height*scale,width*scale,1))\n",
    "    resized_img = resized_img.astype('float32')\n",
    "    return resized_img"
   ]
  },
  {
   "cell_type": "code",
   "execution_count": 30,
   "id": "surprised-tours",
   "metadata": {},
   "outputs": [],
   "source": [
    "def PSNR(original, compressed):\n",
    "    mse = np.mean((original - compressed) ** 2)\n",
    "    if(mse == 0): \n",
    "        return 100\n",
    "    max_pixel = 255.0\n",
    "    psnr = 20 * log10(max_pixel / sqrt(mse))\n",
    "    return psnr"
   ]
  },
  {
   "cell_type": "code",
   "execution_count": 12,
   "id": "smart-orleans",
   "metadata": {},
   "outputs": [
    {
     "name": "stdout",
     "output_type": "stream",
     "text": [
      "<class 'tensorflow.python.data.ops.dataset_ops._OptionsDataset'>\n",
      "tfds.core.DatasetInfo(\n",
      "    name='div2k',\n",
      "    full_name='div2k/bicubic_x2/2.0.0',\n",
      "    description=\"\"\"\n",
      "    DIV2K dataset: DIVerse 2K resolution high quality images as used for the challenges @ NTIRE (CVPR 2017 and CVPR 2018) and @ PIRM (ECCV 2018)\n",
      "    \"\"\",\n",
      "    config_description=\"\"\"\n",
      "    Uses bicubic_x2 data.\n",
      "    \"\"\",\n",
      "    homepage='https://data.vision.ee.ethz.ch/cvl/DIV2K/',\n",
      "    data_path='C:\\\\Users\\\\htg_sensei\\\\tensorflow_datasets\\\\div2k\\\\bicubic_x2\\\\2.0.0',\n",
      "    download_size=4.68 GiB,\n",
      "    dataset_size=4.68 GiB,\n",
      "    features=FeaturesDict({\n",
      "        'hr': Image(shape=(None, None, 3), dtype=tf.uint8),\n",
      "        'lr': Image(shape=(None, None, 3), dtype=tf.uint8),\n",
      "    }),\n",
      "    supervised_keys=('lr', 'hr'),\n",
      "    disable_shuffling=False,\n",
      "    splits={\n",
      "        'train': <SplitInfo num_examples=800, num_shards=64>,\n",
      "        'validation': <SplitInfo num_examples=100, num_shards=8>,\n",
      "    },\n",
      "    citation=\"\"\"@InProceedings{Agustsson_2017_CVPR_Workshops,\n",
      "    \tauthor = {Agustsson, Eirikur and Timofte, Radu},\n",
      "    \ttitle = {NTIRE 2017 Challenge on Single Image Super-Resolution: Dataset and Study},\n",
      "    \tbooktitle = {The IEEE Conference on Computer Vision and Pattern Recognition (CVPR) Workshops},\n",
      "        url = \"http://www.vision.ee.ethz.ch/~timofter/publications/Agustsson-CVPRW-2017.pdf\",\n",
      "    \tmonth = {July},\n",
      "    \tyear = {2017}\n",
      "    }\"\"\",\n",
      ")\n"
     ]
    }
   ],
   "source": [
    "ds,ds_info = tfds.load('div2k', split='train', shuffle_files=True,with_info=True)\n",
    "print(type(ds))\n",
    "print(ds_info)"
   ]
  },
  {
   "cell_type": "markdown",
   "id": "likely-discount",
   "metadata": {},
   "source": [
    "How to extract data from a tensorflow dataset: https://www.tensorflow.org/datasets/overview"
   ]
  },
  {
   "cell_type": "code",
   "execution_count": 13,
   "id": "stunning-hardwood",
   "metadata": {},
   "outputs": [],
   "source": [
    "#extracting images from dataset\n",
    "train_x=[]\n",
    "train_y=[]\n",
    "no_of_images=100\n",
    "i=0\n",
    "for sample in ds:\n",
    "    train_x.append(np.array(sample[\"lr\"]))\n",
    "    train_y.append(np.array(sample[\"hr\"]))\n",
    "    i+=1\n",
    "    if(i==no_of_images):\n",
    "        break"
   ]
  },
  {
   "cell_type": "code",
   "execution_count": 14,
   "id": "crucial-tolerance",
   "metadata": {},
   "outputs": [
    {
     "name": "stdout",
     "output_type": "stream",
     "text": [
      "(678, 1020, 3) (1356, 2040, 3)\n",
      "(762, 1020, 3) (1524, 2040, 3)\n",
      "(768, 1020, 3) (1536, 2040, 3)\n",
      "(678, 1020, 3) (1356, 2040, 3)\n",
      "(678, 1020, 3) (1356, 2040, 3)\n"
     ]
    }
   ],
   "source": [
    "#shape of the images stored\n",
    "for i in range(5):\n",
    "    print(train_x[i].shape,train_y[i].shape)"
   ]
  },
  {
   "cell_type": "code",
   "execution_count": 15,
   "id": "animal-burton",
   "metadata": {},
   "outputs": [],
   "source": [
    "#initializing parameters\n",
    "batch_size=32\n",
    "height=50\n",
    "width=50"
   ]
  },
  {
   "cell_type": "code",
   "execution_count": 16,
   "id": "pharmaceutical-journalist",
   "metadata": {},
   "outputs": [
    {
     "name": "stdout",
     "output_type": "stream",
     "text": [
      "(1536, 2040, 1)\n",
      "(1536, 2040, 1)\n"
     ]
    }
   ],
   "source": [
    "#pre-processing\n",
    "processed_images_x=list(map(preprocessing,train_x))\n",
    "grayscale_images_y=list(map(conv_ycbcr,train_y))\n",
    "print(processed_images_x[2].shape)\n",
    "print(grayscale_images_y[2].shape)"
   ]
  },
  {
   "cell_type": "code",
   "execution_count": 31,
   "id": "acknowledged-chicken",
   "metadata": {},
   "outputs": [],
   "source": [
    "#cropping\n",
    "cropped_images_x=np.array(patch_extraction(processed_images_x[0],height,width))\n",
    "cropped_images_y=np.array(patch_extraction(grayscale_images_y[0],height,width))\n",
    "for element in processed_images_x[1:]:\n",
    "    cropped_images_x=np.append(cropped_images_x,patch_extraction(element,height,width),axis=0)\n",
    "for element in grayscale_images_y[1:]:\n",
    "    cropped_images_y=np.append(cropped_images_y,patch_extraction(element,height,width),axis=0)\n",
    "\n",
    "\n",
    "shape_x=cropped_images_x.shape\n",
    "shape_y=cropped_images_y.shape\n",
    "\n",
    "\n",
    "resize=partial(bicubic_resize,(38,38))\n",
    "resized_cropped_images_y=np.array(list(map(resize,cropped_images_y)))\n",
    "network_input=np.array(list(map(convert_grayscale_to_dct,cropped_images_x)))\n",
    "network_output=np.array(list(map(convert_grayscale_to_dct,resized_cropped_images_y)))\n"
   ]
  },
  {
   "cell_type": "code",
   "execution_count": 18,
   "id": "fancy-pledge",
   "metadata": {},
   "outputs": [],
   "source": [
    "#network architecture\n",
    "network=models.Sequential()\n",
    "network.add(layers.Conv2D(64, (9,9),activation='relu',input_shape=(height,width,1),name='first'))\n",
    "network.add(layers.Conv2D(32,(1,1),activation='relu',name='second'))\n",
    "network.add(layers.Conv2D(1,(5,5),activation='relu',name='last'))"
   ]
  },
  {
   "cell_type": "code",
   "execution_count": 19,
   "id": "adjusted-charlotte",
   "metadata": {},
   "outputs": [
    {
     "name": "stdout",
     "output_type": "stream",
     "text": [
      "Model: \"sequential\"\n",
      "_________________________________________________________________\n",
      "Layer (type)                 Output Shape              Param #   \n",
      "=================================================================\n",
      "first (Conv2D)               (None, 42, 42, 64)        5248      \n",
      "_________________________________________________________________\n",
      "second (Conv2D)              (None, 42, 42, 32)        2080      \n",
      "_________________________________________________________________\n",
      "last (Conv2D)                (None, 38, 38, 1)         801       \n",
      "=================================================================\n",
      "Total params: 8,129\n",
      "Trainable params: 8,129\n",
      "Non-trainable params: 0\n",
      "_________________________________________________________________\n"
     ]
    }
   ],
   "source": [
    "network.summary()"
   ]
  },
  {
   "cell_type": "code",
   "execution_count": 20,
   "id": "leading-connection",
   "metadata": {},
   "outputs": [
    {
     "name": "stdout",
     "output_type": "stream",
     "text": [
      "(38, 38)\n"
     ]
    }
   ],
   "source": [
    "last_output=network.get_layer('last').output_shape[1:3]\n",
    "print(last_output)"
   ]
  },
  {
   "cell_type": "code",
   "execution_count": 58,
   "id": "competitive-doubt",
   "metadata": {},
   "outputs": [
    {
     "name": "stdout",
     "output_type": "stream",
     "text": [
      "Epoch 1/30\n",
      "3125/3125 [==============================] - 2653s 849ms/step - loss: 1857.1119 - mean_squared_error: 1857.1102 - val_loss: 816.3737 - val_mean_squared_error: 816.3736\n",
      "Epoch 2/30\n",
      " 250/3125 [=>............................] - ETA: 33:35 - loss: 545.5054 - mean_squared_error: 545.5055"
     ]
    },
    {
     "ename": "KeyboardInterrupt",
     "evalue": "",
     "output_type": "error",
     "traceback": [
      "\u001b[1;31m---------------------------------------------------------------------------\u001b[0m",
      "\u001b[1;31mKeyboardInterrupt\u001b[0m                         Traceback (most recent call last)",
      "\u001b[1;32m<ipython-input-58-dfbb4a9e7f4e>\u001b[0m in \u001b[0;36m<module>\u001b[1;34m\u001b[0m\n\u001b[0;32m      7\u001b[0m                                         restore_best_weights = True)\n\u001b[0;32m      8\u001b[0m \u001b[1;33m\u001b[0m\u001b[0m\n\u001b[1;32m----> 9\u001b[1;33m history = network.fit(network_input[:100000], network_output[:100000],batch_size=batch_size,epochs=30,\n\u001b[0m\u001b[0;32m     10\u001b[0m                      \u001b[0mvalidation_data\u001b[0m \u001b[1;33m=\u001b[0m\u001b[1;33m(\u001b[0m\u001b[0mnetwork_input\u001b[0m\u001b[1;33m[\u001b[0m\u001b[1;36m100000\u001b[0m\u001b[1;33m:\u001b[0m\u001b[1;36m105000\u001b[0m\u001b[1;33m]\u001b[0m\u001b[1;33m,\u001b[0m \u001b[0mnetwork_output\u001b[0m\u001b[1;33m[\u001b[0m\u001b[1;36m100000\u001b[0m\u001b[1;33m:\u001b[0m\u001b[1;36m105000\u001b[0m\u001b[1;33m]\u001b[0m\u001b[1;33m)\u001b[0m\u001b[1;33m,\u001b[0m\u001b[1;33m\u001b[0m\u001b[1;33m\u001b[0m\u001b[0m\n\u001b[0;32m     11\u001b[0m                      \u001b[0mcallbacks\u001b[0m \u001b[1;33m=\u001b[0m\u001b[1;33m[\u001b[0m\u001b[0mearlystopping\u001b[0m\u001b[1;33m]\u001b[0m\u001b[1;33m\u001b[0m\u001b[1;33m\u001b[0m\u001b[0m\n",
      "\u001b[1;32mc:\\users\\htg_sensei\\appdata\\local\\programs\\python\\python39\\lib\\site-packages\\tensorflow\\python\\keras\\engine\\training.py\u001b[0m in \u001b[0;36mfit\u001b[1;34m(self, x, y, batch_size, epochs, verbose, callbacks, validation_split, validation_data, shuffle, class_weight, sample_weight, initial_epoch, steps_per_epoch, validation_steps, validation_batch_size, validation_freq, max_queue_size, workers, use_multiprocessing)\u001b[0m\n\u001b[0;32m   1181\u001b[0m                 _r=1):\n\u001b[0;32m   1182\u001b[0m               \u001b[0mcallbacks\u001b[0m\u001b[1;33m.\u001b[0m\u001b[0mon_train_batch_begin\u001b[0m\u001b[1;33m(\u001b[0m\u001b[0mstep\u001b[0m\u001b[1;33m)\u001b[0m\u001b[1;33m\u001b[0m\u001b[1;33m\u001b[0m\u001b[0m\n\u001b[1;32m-> 1183\u001b[1;33m               \u001b[0mtmp_logs\u001b[0m \u001b[1;33m=\u001b[0m \u001b[0mself\u001b[0m\u001b[1;33m.\u001b[0m\u001b[0mtrain_function\u001b[0m\u001b[1;33m(\u001b[0m\u001b[0miterator\u001b[0m\u001b[1;33m)\u001b[0m\u001b[1;33m\u001b[0m\u001b[1;33m\u001b[0m\u001b[0m\n\u001b[0m\u001b[0;32m   1184\u001b[0m               \u001b[1;32mif\u001b[0m \u001b[0mdata_handler\u001b[0m\u001b[1;33m.\u001b[0m\u001b[0mshould_sync\u001b[0m\u001b[1;33m:\u001b[0m\u001b[1;33m\u001b[0m\u001b[1;33m\u001b[0m\u001b[0m\n\u001b[0;32m   1185\u001b[0m                 \u001b[0mcontext\u001b[0m\u001b[1;33m.\u001b[0m\u001b[0masync_wait\u001b[0m\u001b[1;33m(\u001b[0m\u001b[1;33m)\u001b[0m\u001b[1;33m\u001b[0m\u001b[1;33m\u001b[0m\u001b[0m\n",
      "\u001b[1;32mc:\\users\\htg_sensei\\appdata\\local\\programs\\python\\python39\\lib\\site-packages\\tensorflow\\python\\eager\\def_function.py\u001b[0m in \u001b[0;36m__call__\u001b[1;34m(self, *args, **kwds)\u001b[0m\n\u001b[0;32m    887\u001b[0m \u001b[1;33m\u001b[0m\u001b[0m\n\u001b[0;32m    888\u001b[0m       \u001b[1;32mwith\u001b[0m \u001b[0mOptionalXlaContext\u001b[0m\u001b[1;33m(\u001b[0m\u001b[0mself\u001b[0m\u001b[1;33m.\u001b[0m\u001b[0m_jit_compile\u001b[0m\u001b[1;33m)\u001b[0m\u001b[1;33m:\u001b[0m\u001b[1;33m\u001b[0m\u001b[1;33m\u001b[0m\u001b[0m\n\u001b[1;32m--> 889\u001b[1;33m         \u001b[0mresult\u001b[0m \u001b[1;33m=\u001b[0m \u001b[0mself\u001b[0m\u001b[1;33m.\u001b[0m\u001b[0m_call\u001b[0m\u001b[1;33m(\u001b[0m\u001b[1;33m*\u001b[0m\u001b[0margs\u001b[0m\u001b[1;33m,\u001b[0m \u001b[1;33m**\u001b[0m\u001b[0mkwds\u001b[0m\u001b[1;33m)\u001b[0m\u001b[1;33m\u001b[0m\u001b[1;33m\u001b[0m\u001b[0m\n\u001b[0m\u001b[0;32m    890\u001b[0m \u001b[1;33m\u001b[0m\u001b[0m\n\u001b[0;32m    891\u001b[0m       \u001b[0mnew_tracing_count\u001b[0m \u001b[1;33m=\u001b[0m \u001b[0mself\u001b[0m\u001b[1;33m.\u001b[0m\u001b[0mexperimental_get_tracing_count\u001b[0m\u001b[1;33m(\u001b[0m\u001b[1;33m)\u001b[0m\u001b[1;33m\u001b[0m\u001b[1;33m\u001b[0m\u001b[0m\n",
      "\u001b[1;32mc:\\users\\htg_sensei\\appdata\\local\\programs\\python\\python39\\lib\\site-packages\\tensorflow\\python\\eager\\def_function.py\u001b[0m in \u001b[0;36m_call\u001b[1;34m(self, *args, **kwds)\u001b[0m\n\u001b[0;32m    915\u001b[0m       \u001b[1;31m# In this case we have created variables on the first call, so we run the\u001b[0m\u001b[1;33m\u001b[0m\u001b[1;33m\u001b[0m\u001b[1;33m\u001b[0m\u001b[0m\n\u001b[0;32m    916\u001b[0m       \u001b[1;31m# defunned version which is guaranteed to never create variables.\u001b[0m\u001b[1;33m\u001b[0m\u001b[1;33m\u001b[0m\u001b[1;33m\u001b[0m\u001b[0m\n\u001b[1;32m--> 917\u001b[1;33m       \u001b[1;32mreturn\u001b[0m \u001b[0mself\u001b[0m\u001b[1;33m.\u001b[0m\u001b[0m_stateless_fn\u001b[0m\u001b[1;33m(\u001b[0m\u001b[1;33m*\u001b[0m\u001b[0margs\u001b[0m\u001b[1;33m,\u001b[0m \u001b[1;33m**\u001b[0m\u001b[0mkwds\u001b[0m\u001b[1;33m)\u001b[0m  \u001b[1;31m# pylint: disable=not-callable\u001b[0m\u001b[1;33m\u001b[0m\u001b[1;33m\u001b[0m\u001b[0m\n\u001b[0m\u001b[0;32m    918\u001b[0m     \u001b[1;32melif\u001b[0m \u001b[0mself\u001b[0m\u001b[1;33m.\u001b[0m\u001b[0m_stateful_fn\u001b[0m \u001b[1;32mis\u001b[0m \u001b[1;32mnot\u001b[0m \u001b[1;32mNone\u001b[0m\u001b[1;33m:\u001b[0m\u001b[1;33m\u001b[0m\u001b[1;33m\u001b[0m\u001b[0m\n\u001b[0;32m    919\u001b[0m       \u001b[1;31m# Release the lock early so that multiple threads can perform the call\u001b[0m\u001b[1;33m\u001b[0m\u001b[1;33m\u001b[0m\u001b[1;33m\u001b[0m\u001b[0m\n",
      "\u001b[1;32mc:\\users\\htg_sensei\\appdata\\local\\programs\\python\\python39\\lib\\site-packages\\tensorflow\\python\\eager\\function.py\u001b[0m in \u001b[0;36m__call__\u001b[1;34m(self, *args, **kwargs)\u001b[0m\n\u001b[0;32m   3021\u001b[0m       (graph_function,\n\u001b[0;32m   3022\u001b[0m        filtered_flat_args) = self._maybe_define_function(args, kwargs)\n\u001b[1;32m-> 3023\u001b[1;33m     return graph_function._call_flat(\n\u001b[0m\u001b[0;32m   3024\u001b[0m         filtered_flat_args, captured_inputs=graph_function.captured_inputs)  # pylint: disable=protected-access\n\u001b[0;32m   3025\u001b[0m \u001b[1;33m\u001b[0m\u001b[0m\n",
      "\u001b[1;32mc:\\users\\htg_sensei\\appdata\\local\\programs\\python\\python39\\lib\\site-packages\\tensorflow\\python\\eager\\function.py\u001b[0m in \u001b[0;36m_call_flat\u001b[1;34m(self, args, captured_inputs, cancellation_manager)\u001b[0m\n\u001b[0;32m   1958\u001b[0m         and executing_eagerly):\n\u001b[0;32m   1959\u001b[0m       \u001b[1;31m# No tape is watching; skip to running the function.\u001b[0m\u001b[1;33m\u001b[0m\u001b[1;33m\u001b[0m\u001b[1;33m\u001b[0m\u001b[0m\n\u001b[1;32m-> 1960\u001b[1;33m       return self._build_call_outputs(self._inference_function.call(\n\u001b[0m\u001b[0;32m   1961\u001b[0m           ctx, args, cancellation_manager=cancellation_manager))\n\u001b[0;32m   1962\u001b[0m     forward_backward = self._select_forward_and_backward_functions(\n",
      "\u001b[1;32mc:\\users\\htg_sensei\\appdata\\local\\programs\\python\\python39\\lib\\site-packages\\tensorflow\\python\\eager\\function.py\u001b[0m in \u001b[0;36mcall\u001b[1;34m(self, ctx, args, cancellation_manager)\u001b[0m\n\u001b[0;32m    589\u001b[0m       \u001b[1;32mwith\u001b[0m \u001b[0m_InterpolateFunctionError\u001b[0m\u001b[1;33m(\u001b[0m\u001b[0mself\u001b[0m\u001b[1;33m)\u001b[0m\u001b[1;33m:\u001b[0m\u001b[1;33m\u001b[0m\u001b[1;33m\u001b[0m\u001b[0m\n\u001b[0;32m    590\u001b[0m         \u001b[1;32mif\u001b[0m \u001b[0mcancellation_manager\u001b[0m \u001b[1;32mis\u001b[0m \u001b[1;32mNone\u001b[0m\u001b[1;33m:\u001b[0m\u001b[1;33m\u001b[0m\u001b[1;33m\u001b[0m\u001b[0m\n\u001b[1;32m--> 591\u001b[1;33m           outputs = execute.execute(\n\u001b[0m\u001b[0;32m    592\u001b[0m               \u001b[0mstr\u001b[0m\u001b[1;33m(\u001b[0m\u001b[0mself\u001b[0m\u001b[1;33m.\u001b[0m\u001b[0msignature\u001b[0m\u001b[1;33m.\u001b[0m\u001b[0mname\u001b[0m\u001b[1;33m)\u001b[0m\u001b[1;33m,\u001b[0m\u001b[1;33m\u001b[0m\u001b[1;33m\u001b[0m\u001b[0m\n\u001b[0;32m    593\u001b[0m               \u001b[0mnum_outputs\u001b[0m\u001b[1;33m=\u001b[0m\u001b[0mself\u001b[0m\u001b[1;33m.\u001b[0m\u001b[0m_num_outputs\u001b[0m\u001b[1;33m,\u001b[0m\u001b[1;33m\u001b[0m\u001b[1;33m\u001b[0m\u001b[0m\n",
      "\u001b[1;32mc:\\users\\htg_sensei\\appdata\\local\\programs\\python\\python39\\lib\\site-packages\\tensorflow\\python\\eager\\execute.py\u001b[0m in \u001b[0;36mquick_execute\u001b[1;34m(op_name, num_outputs, inputs, attrs, ctx, name)\u001b[0m\n\u001b[0;32m     57\u001b[0m   \u001b[1;32mtry\u001b[0m\u001b[1;33m:\u001b[0m\u001b[1;33m\u001b[0m\u001b[1;33m\u001b[0m\u001b[0m\n\u001b[0;32m     58\u001b[0m     \u001b[0mctx\u001b[0m\u001b[1;33m.\u001b[0m\u001b[0mensure_initialized\u001b[0m\u001b[1;33m(\u001b[0m\u001b[1;33m)\u001b[0m\u001b[1;33m\u001b[0m\u001b[1;33m\u001b[0m\u001b[0m\n\u001b[1;32m---> 59\u001b[1;33m     tensors = pywrap_tfe.TFE_Py_Execute(ctx._handle, device_name, op_name,\n\u001b[0m\u001b[0;32m     60\u001b[0m                                         inputs, attrs, num_outputs)\n\u001b[0;32m     61\u001b[0m   \u001b[1;32mexcept\u001b[0m \u001b[0mcore\u001b[0m\u001b[1;33m.\u001b[0m\u001b[0m_NotOkStatusException\u001b[0m \u001b[1;32mas\u001b[0m \u001b[0me\u001b[0m\u001b[1;33m:\u001b[0m\u001b[1;33m\u001b[0m\u001b[1;33m\u001b[0m\u001b[0m\n",
      "\u001b[1;31mKeyboardInterrupt\u001b[0m: "
     ]
    }
   ],
   "source": [
    "network.compile(optimizer='adam',\n",
    "              loss=tf.keras.losses.MeanSquaredError(),\n",
    "              metrics=[tf.keras.metrics.MeanSquaredError()])\n",
    "\n",
    "earlystopping = callbacks.EarlyStopping(monitor =\"val_loss\", \n",
    "                                        mode =\"min\", patience = 5,\n",
    "                                        restore_best_weights = True)\n",
    "\n",
    "history = network.fit(network_input[:100000], network_output[:100000],batch_size=batch_size,epochs=30,\n",
    "                     validation_data =(network_input[100000:105000], network_output[100000:105000]),\n",
    "                     callbacks =[earlystopping]\n",
    "                     )"
   ]
  },
  {
   "cell_type": "code",
   "execution_count": 32,
   "id": "floral-covering",
   "metadata": {},
   "outputs": [],
   "source": [
    "network=models.load_model('dct_E30_B32_I100000')"
   ]
  },
  {
   "cell_type": "code",
   "execution_count": 33,
   "id": "second-staff",
   "metadata": {},
   "outputs": [
    {
     "name": "stdout",
     "output_type": "stream",
     "text": [
      "Model: \"sequential\"\n",
      "_________________________________________________________________\n",
      "Layer (type)                 Output Shape              Param #   \n",
      "=================================================================\n",
      "first (Conv2D)               (None, 42, 42, 64)        5248      \n",
      "_________________________________________________________________\n",
      "second (Conv2D)              (None, 42, 42, 32)        2080      \n",
      "_________________________________________________________________\n",
      "last (Conv2D)                (None, 38, 38, 1)         801       \n",
      "=================================================================\n",
      "Total params: 8,129\n",
      "Trainable params: 8,129\n",
      "Non-trainable params: 0\n",
      "_________________________________________________________________\n"
     ]
    }
   ],
   "source": [
    "network.summary()"
   ]
  },
  {
   "cell_type": "code",
   "execution_count": 42,
   "id": "copyrighted-anniversary",
   "metadata": {
    "scrolled": false
   },
   "outputs": [
    {
     "name": "stdout",
     "output_type": "stream",
     "text": [
      "(107040, 50, 50, 1)\n"
     ]
    },
    {
     "data": {
      "image/png": "[encoded data removed]",
      "text/plain": [
       "<Figure size 960x800 with 1 Axes>"
      ]
     },
     "metadata": {
      "needs_background": "light"
     },
     "output_type": "display_data"
    },
    {
     "data": {
      "image/png": "[encoded data removed]",
      "text/plain": [
       "<Figure size 960x800 with 1 Axes>"
      ]
     },
     "metadata": {
      "needs_background": "light"
     },
     "output_type": "display_data"
    },
    {
     "data": {
      "image/png": "[encoded data removed]",
      "text/plain": [
       "<Figure size 960x800 with 1 Axes>"
      ]
     },
     "metadata": {
      "needs_background": "light"
     },
     "output_type": "display_data"
    }
   ],
   "source": [
    "z=100000\n",
    "print(network_input.shape)\n",
    "pre=network.predict(network_input[z:z+100])\n",
    "predict_img=convert_dct_to_grayscale(pre[0]).astype(np.float32)\n",
    "\n",
    "\n",
    "\n",
    "show_bnw(predict_img)\n",
    "\n",
    "show_bnw(cropped_images_x[z])\n",
    "show_bnw(resized_cropped_images_y[z])"
   ]
  },
  {
   "cell_type": "code",
   "execution_count": 43,
   "id": "flush-acceptance",
   "metadata": {},
   "outputs": [
    {
     "name": "stdout",
     "output_type": "stream",
     "text": [
      "17.954427595051246\n",
      "26.117133812440365\n"
     ]
    }
   ],
   "source": [
    "pred_avg=0\n",
    "bicubic_avg=0\n",
    "for i in range(100):\n",
    "    predict_img=convert_dct_to_grayscale(pre[i]).astype(np.float32)\n",
    "    pred_avg+=PSNR(resized_cropped_images_y[z+i],np.resize(predict_img,(predict_img.shape[0],predict_img.shape[1],1)))\n",
    "    bicubic_avg+=PSNR(cropped_images_y[z+i],cropped_images_x[z+i])\n",
    "\n",
    "print(pred_avg/100)\n",
    "print(bicubic_avg/100)"
   ]
  },
  {
   "cell_type": "code",
   "execution_count": null,
   "id": "impossible-somalia",
   "metadata": {},
   "outputs": [],
   "source": []
  },
  {
   "cell_type": "code",
   "execution_count": 257,
   "id": "liable-vietnam",
   "metadata": {},
   "outputs": [
    {
     "name": "stdout",
     "output_type": "stream",
     "text": [
      "37.44939041201172\n"
     ]
    }
   ],
   "source": [
    "print(PSNR(cropped_images_y[z],cropped_images_x[z]))"
   ]
  },
  {
   "cell_type": "code",
   "execution_count": 253,
   "id": "expensive-colors",
   "metadata": {},
   "outputs": [
    {
     "name": "stdout",
     "output_type": "stream",
     "text": [
      "38/38 [==============================] - 2s 54ms/step - loss: 835.6566 - mean_squared_error: 835.6565\n",
      "[835.6565551757812, 835.656494140625]\n"
     ]
    }
   ],
   "source": [
    "results = network.evaluate(network_input[105000:],network_output[105000:] , batch_size=128)\n",
    "print(results)"
   ]
  },
  {
   "cell_type": "code",
   "execution_count": 276,
   "id": "checked-basketball",
   "metadata": {},
   "outputs": [],
   "source": [
    "#final class for super resolution\n",
    "\n",
    "class SuperResolution:\n",
    "    def __init__(self, image, type='bgr',scale=2):\n",
    "        self.image=image\n",
    "        self.network=models.load_model('without_dct_E20_B30_I100000')\n",
    "        self.shape=image.shape\n",
    "        self.input_dim=(50,50)\n",
    "        self.type=type\n",
    "        self.scale=2\n",
    "        self.n_x=(self.image.shape[1]*self.scale)//(50)\n",
    "        self.n_y=(self.image.shape[0]*self.scale)//(50)\n",
    "        self.output=None\n",
    "        self.output_cb=None\n",
    "        self.output_cr=None\n",
    "        self.output_y=None\n",
    "        self.predictions=None\n",
    "\n",
    "        \n",
    "    #displaying functions\n",
    "    def show_bgrimg(self,image):#for diplaying bgr images\n",
    "        plt.figure(figsize=(12, 10), dpi=80)\n",
    "        plt.imshow(cv.cvtColor(image, cv.COLOR_BGR2RGB))\n",
    "        plt.show()\n",
    "    def show_rgbimg(self,image):#for displaying rgb images\n",
    "        plt.figure(figsize=(12, 10), dpi=80)\n",
    "        plt.imshow(image)\n",
    "        plt.show()\n",
    "    def show_bnw(self,image):#for displaying grayscale images \n",
    "        plt.figure(figsize=(12, 10), dpi=80)\n",
    "        plt.imshow(image,cmap=\"gray\")\n",
    "        plt.show()\n",
    "    \n",
    "    #summary of model to be used for super resolution\n",
    "    def model_summary(self):\n",
    "        self.network.summary()\n",
    "    \n",
    "    #dividing the given image into sub-images\n",
    "    def __patch_extraction(self,image,stride=0):\n",
    "        result=[]\n",
    "        print(\"image\",image.shape)\n",
    "        resized_img=cv.resize(image, ((image.shape[1]//50)*50,(image.shape[0]//50)*50), interpolation=cv.INTER_CUBIC)\n",
    "        resized_img=np.resize(resized_img,((image.shape[0]//50)*50,(image.shape[1]//50)*50,1))\n",
    "        print(\"cv\",resized_img.shape)\n",
    "        print(self.n_x)\n",
    "        if stride==0:\n",
    "            for i in range(image.shape[0]//50):\n",
    "                for j in range(image.shape[1]//50):\n",
    "                    result.append(resized_img[i*50:(i+1)*50,j*50:(j+1)*50])\n",
    "        else:\n",
    "            for i in range((image.shape[0]//50)*2-1):\n",
    "                for j in range((image.shape[1]//50)*2-1):\n",
    "                    result.append(resized_img[i*25:i*25+50,j*25:j*25+50])\n",
    "        return np.array(result)\n",
    "    \n",
    "    \n",
    "    def __preprocessing(self):\n",
    "        ycrcb_img=None\n",
    "        if self.type=='bgr':\n",
    "            ycrcb_img=cv.cvtColor(self.image, cv.COLOR_BGR2YCR_CB)\n",
    "        elif self.type=='rgb':\n",
    "            yrbcb_img=cv.cvtColor(self.image, cv.COLOR_RGB2YCR_CB)\n",
    "        else:\n",
    "            assert(False)\n",
    "\n",
    "        width=self.shape[1]\n",
    "        height=self.shape[0]\n",
    "        \n",
    "        luminance=ycrcb_img[:,:,0]\n",
    "\n",
    "        self.output_cr=cv.resize(ycrcb_img[:,:,2],(width*self.scale,height*self.scale),interpolation=cv.INTER_CUBIC)\n",
    "        self.output_cb=cv.resize(ycrcb_img[:,:,1],(width*self.scale,height*self.scale),interpolation=cv.INTER_CUBIC)\n",
    "        \n",
    "        resized_img=cv.resize(luminance,(width*self.scale,height*self.scale), interpolation=cv.INTER_CUBIC)\n",
    "        resized_img=np.resize(resized_img.flatten(),(height*self.scale,width*self.scale,1))\n",
    "        resized_img = resized_img.astype('float32')\n",
    "        print(\"resized\",resized_img.shape)\n",
    "        \n",
    "        return resized_img\n",
    "        \n",
    "    def __reconstruction(self,patches):\n",
    "        img_width=self.n_x*38\n",
    "        img_height=self.n_y*38\n",
    "        result=np.zeros((img_height,img_width))\n",
    "        try:\n",
    "            for i in range(self.n_y*2-1):\n",
    "                for j in range(self.n_x*2-1):\n",
    "                    req_patch=patches[i*(self.n_x*2-1)+j]\n",
    "                    for y in range(38):\n",
    "                        for x in range(38):\n",
    "                            result[i*19+y,j*19+x]+=req_patch[y,x,0]\n",
    "                            \n",
    "        except IndexError: \n",
    "             print(\"Index Error\")\n",
    "        return result/4\n",
    "        \n",
    "    def __thresholding(self,image,max_intensity):\n",
    "        i,j=0,0\n",
    "        for rows in image:\n",
    "            i=0\n",
    "            for e in rows:\n",
    "                if e>max_intensity:\n",
    "                    image[j,i]=max_intensity\n",
    "                i+=1\n",
    "            j+=1\n",
    "        return image\n",
    "\n",
    "\n",
    "    #predicting the higher resolution image\n",
    "    def prediction(self):\n",
    "        #patches=self.__patch_extraction(self.__preprocessing(),stride=1)\n",
    "        \n",
    "        \n",
    "        \n",
    "        patches=np.array(sklearn.feature_extraction.image.extract_patches_2d(self.__preprocessing(),(50,50)))\n",
    "        \n",
    "        \n",
    "        \n",
    "        print(\"patches\",patches.shape)\n",
    "        print(\"self.__preprocessing()\",self.__preprocessing().shape)\n",
    "        \n",
    "        normalized=stats.zscore(np.array(patches).flatten())\n",
    "        normalized=np.resize(normalized,(patches.shape[0],patches.shape[1],patches.shape[2],1))\n",
    "        \n",
    "        \n",
    "        print(\"normalized\",normalized.shape)\n",
    "        \n",
    "        \n",
    "        \n",
    "        predictions=self.network.predict(normalized)\n",
    "        \n",
    "        self.predictions=predictions*255\n",
    "        \n",
    "        \n",
    "        \n",
    "        resized_predictions=np.array(list(map(partial(bicubic_resize,(50,50)),predictions)))       \n",
    "        \n",
    "        resized_predictions=np.resize(resized_predictions,tuple(list(resized_predictions.shape)[:3]))\n",
    "        \n",
    "        \n",
    "        print(\"resized_predictions\",resized_predictions.shape)\n",
    "        \n",
    "        result=sklearn.feature_extraction.image.reconstruct_from_patches_2d(resized_predictions,(self.n_y*50,self.n_x*50))\n",
    "        \n",
    "       \n",
    "        \n",
    "        result=self.__thresholding(result*255,255)\n",
    "        \n",
    "        \n",
    "        \n",
    "        result=cv.resize(result,(self.shape[1]*self.scale,self.shape[0]*self.scale),interpolation=cv.INTER_CUBIC)\n",
    "        \n",
    "        \n",
    "        \n",
    "        self.output_y=result.astype(np.uint8)\n",
    "        \n",
    "        \n",
    "        self.output=np.dstack((self.output_y,self.output_cr,self.output_cb))\n",
    "        \n",
    "        if self.type==\"bgr\":\n",
    "            self.output=cv.cvtColor(self.output,cv.COLOR_YCR_CB2BGR)\n",
    "        elif self.type=='rgb':\n",
    "            self.output=cv.cvtColor(self.output,cv.COLOR_YCR_CB2RGB)\n",
    "        \n",
    "        return self.output\n",
    "    \n",
    "    def compare_psnr(self,expected):\n",
    "        return tf.image.psnr(expected,self.output,255)\n",
    "                \n",
    "        "
   ]
  },
  {
   "cell_type": "code",
   "execution_count": null,
   "id": "silent-yemen",
   "metadata": {},
   "outputs": [],
   "source": []
  }
 ],
 "metadata": {
  "kernelspec": {
   "display_name": "Python 3",
   "language": "python",
   "name": "python3"
  },
  "language_info": {
   "codemirror_mode": {
    "name": "ipython",
    "version": 3
   },
   "file_extension": ".py",
   "mimetype": "text/x-python",
   "name": "python",
   "nbconvert_exporter": "python",
   "pygments_lexer": "ipython3",
   "version": "3.9.0"
  }
 },
 "nbformat": 4,
 "nbformat_minor": 5
}
